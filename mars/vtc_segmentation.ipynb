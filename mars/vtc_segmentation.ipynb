{
 "cells": [
  {
   "cell_type": "markdown",
   "id": "7d654a9e",
   "metadata": {},
   "source": [
    "# segmentation tool tutorial\n",
    "pyannote**book** is a custom [Jupyter widget](https://ipywidgets.readthedocs.io/en/stable/) built on top of [pyannote.core](http://pyannote.github.io/pyannote-core/) and [wavesurfer.js](https://wavesurfer-js.org/).\n",
    "\n",
    "It can be used to visualize and edit temporal audio labels. "
   ]
  },
  {
   "cell_type": "markdown",
   "id": "7bbe29b0-5ead-4de1-ae04-22bdf2a9b5eb",
   "metadata": {},
   "source": [
    "### Before you to start:\n",
    "This code enables the selection of one file from the \"audio\" folder at a time, automatically looks for the corresponding .rttm file in the \"rttm_original\" folder (if any), and visualizes the audio and the labeled segments in the pyannotebook widget. \n",
    "\n",
    "The code is not complete yet: you should add somewhere a snippet of code running the vtc model or an alternative one (audacity- or praat-based) to obtain the starting .rttm files."
   ]
  },
  {
   "cell_type": "code",
   "execution_count": 30,
   "id": "1d193dd7-5f72-47a9-8bdd-f74a16a0a950",
   "metadata": {
    "tags": []
   },
   "outputs": [],
   "source": [
    "# imports\n",
    "import ipywidgets as widgets\n",
    "from IPython.display import display\n",
    "from pyannotebook import Pyannotebook, load_rttm\n",
    "from pyannote.core import Annotation, Segment\n",
    "import os\n",
    "from pathlib import Path"
   ]
  },
  {
   "cell_type": "code",
   "execution_count": 31,
   "id": "cccea64f-d019-400c-89c0-fe0e7f3783a2",
   "metadata": {
    "tags": []
   },
   "outputs": [],
   "source": [
    "# utility functions\n",
    "def create_file_selector(path):\n",
    "    if not os.path.isdir(path):\n",
    "        print(f\"Path {path} doesn't exist.\")\n",
    "        return\n",
    "\n",
    "    file_list = [f for f in os.listdir(path) if os.path.isfile(os.path.join(path, f))]\n",
    "    if not file_list:\n",
    "        print(f\"No files found in {path}.\")\n",
    "        return\n",
    "\n",
    "    selector = widgets.Dropdown(\n",
    "        options=file_list,\n",
    "        description='File List:',\n",
    "        disabled=False,\n",
    "    )\n",
    "    return selector"
   ]
  },
  {
   "cell_type": "markdown",
   "id": "6c8444e4-70a5-4cae-97d4-0cf9b782bb39",
   "metadata": {},
   "source": [
    "### Let's select the audio file we wanna work with"
   ]
  },
  {
   "cell_type": "code",
   "execution_count": 32,
   "id": "a60d26a7-d362-4a7a-9a45-25dbe872b118",
   "metadata": {
    "tags": []
   },
   "outputs": [
    {
     "data": {
      "application/vnd.jupyter.widget-view+json": {
       "model_id": "ac2c2dc4914347d89ece59be2c1f1df7",
       "version_major": 2,
       "version_minor": 0
      },
      "text/plain": [
       "Dropdown(description='File List:', options=('sample.wav',), value='sample.wav')"
      ]
     },
     "metadata": {},
     "output_type": "display_data"
    }
   ],
   "source": [
    "path = './audio'  # replace with your path\n",
    "file_selector = create_file_selector(path)\n",
    "\n",
    "if file_selector:\n",
    "    display(file_selector)"
   ]
  },
  {
   "cell_type": "code",
   "execution_count": 33,
   "id": "5c204172-202a-4511-8433-d160c2ee359b",
   "metadata": {
    "tags": []
   },
   "outputs": [
    {
     "name": "stdout",
     "output_type": "stream",
     "text": [
      "Selected file: sample.wav\n"
     ]
    }
   ],
   "source": [
    "if file_selector:\n",
    "    selected_file = file_selector.value\n",
    "    print(f\"Selected file: {selected_file}\")\n",
    "    filename = selected_file[:-4]"
   ]
  },
  {
   "cell_type": "markdown",
   "id": "05d2b65d-54c8-4e25-8017-c30e6bd79ed7",
   "metadata": {},
   "source": [
    "### Let's correct or create and label the audio segments of interest"
   ]
  },
  {
   "cell_type": "code",
   "execution_count": 34,
   "id": "0b46f93a-6904-4d64-85db-0c460db1b600",
   "metadata": {
    "tags": []
   },
   "outputs": [
    {
     "data": {
      "application/vnd.jupyter.widget-view+json": {
       "model_id": "b5f60c0788aa45289dbc03d22e2c9d5e",
       "version_major": 2,
       "version_minor": 0
      },
      "text/plain": [
       "Pyannotebook(children=(WavesurferWidget(active_label='a', audio='data:audio/x-wav;base64,UklGRjJMHQBXQVZFZm10I…"
      ]
     },
     "execution_count": 34,
     "metadata": {},
     "output_type": "execute_result"
    }
   ],
   "source": [
    "# instantiate annotation widget\n",
    "widget = Pyannotebook(f\"./audio/{filename}.wav\")\n",
    "widget"
   ]
  },
  {
   "cell_type": "code",
   "execution_count": 35,
   "id": "f9195fa7-faa1-43c0-8983-e46565879314",
   "metadata": {
    "tags": []
   },
   "outputs": [],
   "source": [
    "# ... and assign them to the `annotation` property\n",
    "if Path(f\"./rttm_original/{filename}.rttm\").exists():\n",
    "    annotation = load_rttm(f\"./rttm_original/{filename}.rttm\")[\"sample\"]\n",
    "    widget.annotation = annotation"
   ]
  },
  {
   "cell_type": "markdown",
   "id": "3518c53d",
   "metadata": {},
   "source": [
    "### Here you can find some keyboard shortcuts for facilitating your labeling process\n",
    "\n",
    "Keyboard shortcuts will only work when widget is active so make sure to move your mouse hover to use them.\n",
    "\n",
    "Key                                           | Description\n",
    ":---------------------------------------------|:------------------------------------------------\n",
    "<kbd>SPACE</kbd>                                       | Toggle play/pause\n",
    "<kbd>ENTER</kbd>                                       | Create region at current time\n",
    "<kbd>SHIFT</kbd>+<kbd>ENTER</kbd>                      | Split region at current current time\n",
    "<kbd>A</kbd>, <kbd>B</kbd>, <kbd>C</kbd>, ..., or <kbd>Z</kbd>                    | Update label of selected region\n",
    "<kbd>LEFT</kbd> or <kbd>RIGHT</kbd>                             | 1. Edit start time of selected region (if any)<br/>2. Move time cursor (when paused)\n",
    "<kbd>SHIFT</kbd>+<kbd>LEFT</kbd> or <kbd>SHIFT</kbd>+<kbd>RIGHT</kbd>             | Same, but faster.\n",
    "<kbd>ALT</kbd>+<kbd>LEFT</kbd> or <kbd>ALT</kbd>+<kbd>RIGHT</kbd>                 | Edit end time of selected segment\n",
    "<kbd>SHIFT</kbd>+<kbd>ALT</kbd>+<kbd>LEFT</kbd> or <kbd>SHIFT</kbd>+<kbd>ALT</kbd>+<kbd>RIGHT</kbd> | Same, but faster.\n",
    "<kbd>TAB</kbd>                                         | Select next segment\n",
    "<kbd>SHIFT</kbd>+<kbd>TAB</kbd>                                 | Select previous segment\n",
    "<kbd>BACKSPACE</kbd>                                   | Delete selected region and select previous one\n",
    "<kbd>DELETE</kbd> or <kbd>SHIFT</kbd>+<kbd>BACKSPACE</kbd>               | Delete selected region and select next one\n",
    "<kbd>ESC</kbd>                                         | Unselect segment\n",
    "<kbd>UP</kbd> or <kbd>DOWN</kbd>                                | Zoom in/out (work in progress)"
   ]
  },
  {
   "cell_type": "markdown",
   "id": "61b8301e",
   "metadata": {},
   "source": [
    "### Don't forget to save your annotations\n",
    "\n",
    "Reading the `annotation` property returns a [`pyannote.core.Annotation`](http://pyannote.github.io/pyannote-core/structure.html#annotation) instance..."
   ]
  },
  {
   "cell_type": "code",
   "execution_count": 39,
   "id": "996e1865",
   "metadata": {
    "tags": []
   },
   "outputs": [],
   "source": [
    "# check that it does indeed return an `Annotation` instance\n",
    "from pyannote.core import Annotation\n",
    "assert isinstance(widget.annotation, Annotation)"
   ]
  },
  {
   "cell_type": "markdown",
   "id": "8cfbd90a",
   "metadata": {},
   "source": [
    "... which can be iterated like this:"
   ]
  },
  {
   "cell_type": "code",
   "execution_count": 40,
   "id": "232014ef",
   "metadata": {
    "tags": []
   },
   "outputs": [
    {
     "name": "stdout",
     "output_type": "stream",
     "text": [
      "0 - 0.43: child\n",
      "0.84 - 1.64: adult_male\n",
      "3.44 - 5.14: child\n"
     ]
    }
   ],
   "source": [
    "# iterate over regions and their respective labels\n",
    "for segment, _, label in widget.annotation.itertracks(yield_label=True):\n",
    "    print(f\"{round(segment.start, 2)} - {round(segment.end, 2)}: {label}\")\n",
    "    # segment.start\n",
    "    # segment.end\n",
    "    # label"
   ]
  },
  {
   "cell_type": "markdown",
   "id": "32f46888",
   "metadata": {},
   "source": [
    "... or saved to disk in [`RTTM`](https://catalog.ldc.upenn.edu/docs/LDC2004T12/rt03-fall-eval-plan-v9.pdf) file format like this:"
   ]
  },
  {
   "cell_type": "code",
   "execution_count": 41,
   "id": "3f9dfbc6",
   "metadata": {
    "tags": []
   },
   "outputs": [],
   "source": [
    "with open(f\"./rttm_final/{filename}.rttm\", \"w\") as rttm:\n",
    "    widget.annotation.write_rttm(rttm)"
   ]
  },
  {
   "cell_type": "code",
   "execution_count": null,
   "id": "51d1ae84-9fc8-4832-b882-8f081603c548",
   "metadata": {},
   "outputs": [],
   "source": []
  }
 ],
 "metadata": {
  "kernelspec": {
   "display_name": "Python 3 (ipykernel)",
   "language": "python",
   "name": "python3"
  },
  "language_info": {
   "codemirror_mode": {
    "name": "ipython",
    "version": 3
   },
   "file_extension": ".py",
   "mimetype": "text/x-python",
   "name": "python",
   "nbconvert_exporter": "python",
   "pygments_lexer": "ipython3",
   "version": "3.9.18"
  }
 },
 "nbformat": 4,
 "nbformat_minor": 5
}
